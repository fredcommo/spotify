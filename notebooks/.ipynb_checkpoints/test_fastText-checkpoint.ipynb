{
 "cells": [
  {
   "cell_type": "code",
   "execution_count": 2,
   "id": "552d50eb",
   "metadata": {},
   "outputs": [
    {
     "name": "stderr",
     "output_type": "stream",
     "text": [
      "Warning : `load_model` does not return WordVectorModel or SupervisedModel any more, but a `FastText` object which is very similar.\n"
     ]
    }
   ],
   "source": [
    "import fasttext\n",
    "\n",
    "path_to_pretrained_model = '../fasttext/lid.176.bin'\n",
    "fmodel = fasttext.load_model(path_to_pretrained_model)"
   ]
  },
  {
   "cell_type": "code",
   "execution_count": 40,
   "id": "7e988dfc",
   "metadata": {},
   "outputs": [
    {
     "data": {
      "text/plain": [
       "([['__label__en'], ['__label__fr']],\n",
       " [array([0.16532786], dtype=float32), array([0.9958336], dtype=float32)])"
      ]
     },
     "execution_count": 40,
     "metadata": {},
     "output_type": "execute_result"
    }
   ],
   "source": [
    "lang = fmodel.predict([\"Hello world\", \"Bounjour à tous\"])  # ([['__label__en']], [array([0.9331119], dtype=float32)]\n",
    "lang"
   ]
  },
  {
   "cell_type": "code",
   "execution_count": 43,
   "id": "fdf98e6a",
   "metadata": {},
   "outputs": [
    {
     "data": {
      "text/plain": [
       "[0.16532786, 0.9958336]"
      ]
     },
     "execution_count": 43,
     "metadata": {},
     "output_type": "execute_result"
    }
   ],
   "source": [
    "[l[0] for l in lang[1]]"
   ]
  },
  {
   "cell_type": "code",
   "execution_count": 51,
   "id": "5b442860",
   "metadata": {},
   "outputs": [],
   "source": [
    "def predict_language(text):\n",
    "    predictions = fmodel.predict(text)\n",
    "    lang = [pred[0].split(\"_\")[-1] for pred in predictions[0]]\n",
    "    prob = [pred[0] for pred in predictions[1]]\n",
    "    return lang, prob"
   ]
  },
  {
   "cell_type": "code",
   "execution_count": 52,
   "id": "911a8e27",
   "metadata": {},
   "outputs": [
    {
     "name": "stdout",
     "output_type": "stream",
     "text": [
      "['en', 'fr'] [0.92426205, 0.9996338]\n"
     ]
    }
   ],
   "source": [
    "lang, score = predict_language([\"My taylor is rich\", \"Bonjour à tous\"])\n",
    "print(lang, score)"
   ]
  },
  {
   "cell_type": "code",
   "execution_count": 33,
   "id": "4b964a57",
   "metadata": {},
   "outputs": [
    {
     "data": {
      "text/plain": [
       "'en'"
      ]
     },
     "execution_count": 33,
     "metadata": {},
     "output_type": "execute_result"
    }
   ],
   "source": []
  },
  {
   "cell_type": "code",
   "execution_count": null,
   "id": "e4750829",
   "metadata": {},
   "outputs": [],
   "source": []
  }
 ],
 "metadata": {
  "kernelspec": {
   "display_name": "Python 3",
   "language": "python",
   "name": "python3"
  },
  "language_info": {
   "codemirror_mode": {
    "name": "ipython",
    "version": 3
   },
   "file_extension": ".py",
   "mimetype": "text/x-python",
   "name": "python",
   "nbconvert_exporter": "python",
   "pygments_lexer": "ipython3",
   "version": "3.8.12"
  }
 },
 "nbformat": 4,
 "nbformat_minor": 5
}
