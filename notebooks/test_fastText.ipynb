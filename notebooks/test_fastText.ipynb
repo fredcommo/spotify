{
 "cells": [
  {
   "cell_type": "code",
   "execution_count": 1,
   "id": "552d50eb",
   "metadata": {},
   "outputs": [
    {
     "name": "stderr",
     "output_type": "stream",
     "text": [
      "Warning : `load_model` does not return WordVectorModel or SupervisedModel any more, but a `FastText` object which is very similar.\n"
     ]
    }
   ],
   "source": [
    "import fasttext\n",
    "\n",
    "path_to_pretrained_model = '../scripts/fastText/lid.176.bin'\n",
    "fmodel = fasttext.load_model(path_to_pretrained_model)"
   ]
  },
  {
   "cell_type": "code",
   "execution_count": 2,
   "id": "7e988dfc",
   "metadata": {},
   "outputs": [
    {
     "data": {
      "text/plain": [
       "[(['__label__en'], array([0.61547536], dtype=float32)),\n",
       " (['__label__fr'], array([0.9958336], dtype=float32))]"
      ]
     },
     "execution_count": 2,
     "metadata": {},
     "output_type": "execute_result"
    }
   ],
   "source": [
    "predictions = fmodel.predict([\"Hello everybody\", \"Bounjour à tous\"])  # ([['__label__en']], [array([0.9331119], dtype=float32)]\n",
    "predictions = list(zip(*predictions))\n",
    "predictions"
   ]
  },
  {
   "cell_type": "code",
   "execution_count": 3,
   "id": "fdf98e6a",
   "metadata": {},
   "outputs": [
    {
     "name": "stdout",
     "output_type": "stream",
     "text": [
      "['en', 'fr']\n",
      "[0.6154753565788269, 0.9958335757255554]\n"
     ]
    }
   ],
   "source": [
    "print([p[0][0].split(\"_\")[-1] for p in predictions])\n",
    "print([float(p[1]) for p in predictions])"
   ]
  },
  {
   "cell_type": "code",
   "execution_count": 19,
   "id": "5b442860",
   "metadata": {},
   "outputs": [],
   "source": [
    "def predict_language(text):\n",
    "    predictions = fmodel.predict(text)\n",
    "    label = [pred[0].split(\"_\")[-1] for pred in predictions[0]]\n",
    "    prob = [float(pred) for pred in predictions[1]]\n",
    "    return label, prob"
   ]
  },
  {
   "cell_type": "code",
   "execution_count": 20,
   "id": "911a8e27",
   "metadata": {},
   "outputs": [
    {
     "name": "stdout",
     "output_type": "stream",
     "text": [
      "['en', 'fr'] [0.6154753565788269, 0.9996337890625]\n"
     ]
    }
   ],
   "source": [
    "label, score = predict_language([\"Hello everybody\", \"Bonjour à tous\"])\n",
    "print(label, score)"
   ]
  },
  {
   "cell_type": "code",
   "execution_count": 33,
   "id": "4b964a57",
   "metadata": {},
   "outputs": [
    {
     "data": {
      "text/plain": [
       "'en'"
      ]
     },
     "execution_count": 33,
     "metadata": {},
     "output_type": "execute_result"
    }
   ],
   "source": []
  },
  {
   "cell_type": "code",
   "execution_count": null,
   "id": "e4750829",
   "metadata": {},
   "outputs": [],
   "source": []
  }
 ],
 "metadata": {
  "interpreter": {
   "hash": "498863b056b019609974fe4715203a23f1daaaa1c445e9f79f502565070d135e"
  },
  "kernelspec": {
   "display_name": "Python 3.6.10 64-bit ('knapsack': conda)",
   "name": "python3"
  },
  "language_info": {
   "codemirror_mode": {
    "name": "ipython",
    "version": 3
   },
   "file_extension": ".py",
   "mimetype": "text/x-python",
   "name": "python",
   "nbconvert_exporter": "python",
   "pygments_lexer": "ipython3",
   "version": "3.8.12"
  }
 },
 "nbformat": 4,
 "nbformat_minor": 5
}
